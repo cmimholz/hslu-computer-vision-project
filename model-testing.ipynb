{
 "cells": [
  {
   "cell_type": "markdown",
   "id": "ec2e9ee1",
   "metadata": {},
   "source": [
    "1. Baseline (CNN from Scratch)\n",
    "2. Pre-trained + Transer learning\n",
    "3. Data Augmentation\n",
    "4. Model testing"
   ]
  }
 ],
 "metadata": {
  "language_info": {
   "name": "python"
  }
 },
 "nbformat": 4,
 "nbformat_minor": 5
}
